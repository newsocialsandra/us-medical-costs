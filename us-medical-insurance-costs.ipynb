{
 "cells": [
  {
   "cell_type": "markdown",
   "metadata": {},
   "source": [
    "# U.S. Medical Insurance Costs\n",
    "\n",
    "## Hypothesis\n",
    "* Some regions have a higher insurance cost due to their patients having higher rate of smokers, kids and/or average bmi\n",
    "\n",
    "\n",
    "## Project Goal\n",
    "\n",
    "The goal of this project is to find out whether my hopothesis is true or false.\n",
    "\n",
    "I will test the hypothesis by finding out:\n",
    "\n",
    "* How many patients has each region?\n",
    "* What's the average insurance cost per patient per region?\n",
    "* Which region has the highest percentage of smokers amongst patients?\n",
    "* Which region has the most kids on average per patient?\n",
    "* Which region has the highest average bmi per patient?\n",
    "\n",
    "\n",
    "## Data\n",
    "The data used is from the medical insurance cost dataset provided by Codecademy, [originally from Kaggle](https://www.kaggle.com/mirichoi0218/insurance).\n",
    "\n",
    "## Analysis\n",
    "### How many patients has each region?"
   ]
  },
  {
   "cell_type": "code",
   "execution_count": 2,
   "metadata": {},
   "outputs": [],
   "source": [
    "import csv\n",
    "\n",
    "def patients_per_category(csv_file, category):\n",
    "    categories = {}\n",
    "    with open(csv_file, newline='') as insurance_csv:\n",
    "        insurance_data = csv.DictReader(insurance_csv)\n",
    "        for row in insurance_data:\n",
    "            key = row[category]\n",
    "            if key in categories:\n",
    "                categories[key] = categories[key] + 1\n",
    "            else:\n",
    "                categories[key] = 1\n",
    "    return categories"
   ]
  },
  {
   "cell_type": "code",
   "execution_count": 3,
   "metadata": {},
   "outputs": [],
   "source": [
    "patients_per_region = patients_per_category(\"insurance.csv\", \"region\")"
   ]
  },
  {
   "cell_type": "code",
   "execution_count": 4,
   "metadata": {},
   "outputs": [
    {
     "name": "stdout",
     "output_type": "stream",
     "text": [
      "{'southwest': 325, 'southeast': 364, 'northwest': 325, 'northeast': 324}\n"
     ]
    }
   ],
   "source": [
    "print(patients_per_region)"
   ]
  },
  {
   "cell_type": "markdown",
   "metadata": {},
   "source": [
    "### What's the average insurance cost per patient per region?"
   ]
  },
  {
   "cell_type": "code",
   "execution_count": 5,
   "metadata": {},
   "outputs": [
    {
     "name": "stdout",
     "output_type": "stream",
     "text": [
      "{'southwest': 4012754.647620001, 'southeast': 5363689.763290002, 'northwest': 4035711.9965399993, 'northeast': 4343668.583308999}\n"
     ]
    }
   ],
   "source": [
    "def cost_per_region_dict(csv_file):\n",
    "    region_costs = {}\n",
    "    with open(csv_file, newline='') as insurance_csv:\n",
    "        insurance_data = csv.DictReader(insurance_csv)\n",
    "        for row in insurance_data:\n",
    "            region = row[\"region\"]\n",
    "            cost = float(row[\"charges\"])\n",
    "            if region in region_costs:\n",
    "                region_costs[region] += cost\n",
    "            else:\n",
    "                region_costs[region] = cost\n",
    "    return region_costs\n",
    "\n",
    "cost_per_region = cost_per_region_dict(\"insurance.csv\")\n",
    "\n",
    "print(cost_per_region)"
   ]
  },
  {
   "cell_type": "code",
   "execution_count": 7,
   "metadata": {},
   "outputs": [
    {
     "name": "stdout",
     "output_type": "stream",
     "text": [
      "The average cost per patient for southwest is 12346.93737729231\n",
      "The average cost per patient for southeast is 14735.411437609895\n",
      "The average cost per patient for northwest is 12417.575373969228\n",
      "The average cost per patient for northeast is 13406.3845163858\n"
     ]
    }
   ],
   "source": [
    "def cost_per_region_per_patient(cost_per_region, patients_per_region):\n",
    "    southwest_cost = 0\n",
    "    southeast_cost = 0\n",
    "    northwest_cost = 0\n",
    "    northeast_cost = 0\n",
    "    for key in cost_per_region.keys():\n",
    "        cost = cost_per_region[key]/patients_per_region[key]\n",
    "        print(\"The average cost per patient for {} is {}\".format(key, cost))\n",
    "cost_per_region_per_patient(cost_per_region, patients_per_region)"
   ]
  },
  {
   "cell_type": "markdown",
   "metadata": {},
   "source": [
    "### Which region has the highest percentage of smokers amongst patients?\n"
   ]
  },
  {
   "cell_type": "code",
   "execution_count": null,
   "metadata": {},
   "outputs": [],
   "source": []
  }
 ],
 "metadata": {
  "kernelspec": {
   "display_name": "Python 3",
   "language": "python",
   "name": "python3"
  },
  "language_info": {
   "codemirror_mode": {
    "name": "ipython",
    "version": 3
   },
   "file_extension": ".py",
   "mimetype": "text/x-python",
   "name": "python",
   "nbconvert_exporter": "python",
   "pygments_lexer": "ipython3",
   "version": "3.9.1"
  }
 },
 "nbformat": 4,
 "nbformat_minor": 4
}
