{
 "cells": [
  {
   "cell_type": "markdown",
   "metadata": {},
   "source": [
    "# U.S. Medical Insurance Costs\n",
    "\n",
    "## Hypothesis\n",
    "* Some regions have a higher insurance cost per patient due to lifestyle factors\n",
    "* These regions have a higher average rate of smokers, a higher average number of kids and/or a higher average bmi among their patients\n",
    "\n",
    "\n",
    "## Project Goal\n",
    "\n",
    "The goal of this project is to test my hypothesis.\n",
    "\n",
    "I will test the hypothesis by finding out:\n",
    "\n",
    "* How many patients has each region?\n",
    "* What's the average insurance cost per patient per region? \n",
    "* Which region has the highest average insurance cost?\n",
    "* Which region has the highest percentage of smokers amongst patients?\n",
    "* Which region has the most kids on average per patient?\n",
    "* Which region has the highest average bmi per patient?\n",
    "\n",
    "\n",
    "## Data\n",
    "The data used is from the medical insurance cost dataset provided by Codecademy, [originally from Kaggle](https://www.kaggle.com/mirichoi0218/insurance).\n",
    "\n",
    "## Analysis\n",
    "### How many patients has each region?"
   ]
  },
  {
   "cell_type": "code",
   "execution_count": 12,
   "metadata": {},
   "outputs": [],
   "source": [
    "import csv\n",
    "\n",
    "# Create reusable function to find out numbers of patients per variable\n",
    "\n",
    "def patients_per_category(csv_file, category):\n",
    "    categories = {}\n",
    "    with open(csv_file, newline='') as insurance_csv:\n",
    "        insurance_data = csv.DictReader(insurance_csv)\n",
    "        for row in insurance_data:\n",
    "            key = row[category]\n",
    "            if key in categories:\n",
    "                categories[key] = categories[key] + 1\n",
    "            else:\n",
    "                categories[key] = 1\n",
    "    return categories"
   ]
  },
  {
   "cell_type": "code",
   "execution_count": 13,
   "metadata": {},
   "outputs": [],
   "source": [
    "patients_per_region = patients_per_category(\"insurance.csv\", \"region\")"
   ]
  },
  {
   "cell_type": "code",
   "execution_count": 14,
   "metadata": {},
   "outputs": [
    {
     "name": "stdout",
     "output_type": "stream",
     "text": [
      "{'southwest': 325, 'southeast': 364, 'northwest': 325, 'northeast': 324}\n"
     ]
    }
   ],
   "source": [
    "print(patients_per_region)"
   ]
  },
  {
   "cell_type": "markdown",
   "metadata": {},
   "source": [
    "### What's the average insurance cost per patient per region?"
   ]
  },
  {
   "cell_type": "code",
   "execution_count": 15,
   "metadata": {},
   "outputs": [
    {
     "name": "stdout",
     "output_type": "stream",
     "text": [
      "{'southwest': 4012754.647620001, 'southeast': 5363689.763290002, 'northwest': 4035711.9965399993, 'northeast': 4343668.583308999}\n"
     ]
    }
   ],
   "source": [
    "# create reusable function to find out total data for a chosen variable per region\n",
    "\n",
    "def category_per_region(csv_file, category):\n",
    "    regions = {}\n",
    "    with open(csv_file, newline='') as insurance_csv:\n",
    "        insurance_data = csv.DictReader(insurance_csv)\n",
    "        for row in insurance_data:\n",
    "            region = row[\"region\"]\n",
    "            cat = float(row[category])\n",
    "            if region in regions:\n",
    "                regions[region] += cat\n",
    "            else:\n",
    "                regions[region] = cat\n",
    "    return regions\n",
    "\n",
    "cost_per_region = category_per_region(\"insurance.csv\", \"charges\")\n",
    "\n",
    "print(cost_per_region)"
   ]
  },
  {
   "cell_type": "code",
   "execution_count": 16,
   "metadata": {},
   "outputs": [
    {
     "name": "stdout",
     "output_type": "stream",
     "text": [
      "The average cost per patient for southwest is 12346.93737729231\n",
      "The average cost per patient for southeast is 14735.411437609895\n",
      "The average cost per patient for northwest is 12417.575373969228\n",
      "The average cost per patient for northeast is 13406.3845163858\n"
     ]
    }
   ],
   "source": [
    "# create reusable function to find out average data per patient for each region\n",
    "\n",
    "def average_cat_per_region(cat, cat_per_region):\n",
    "    for key in cat_per_region:\n",
    "        average = cat_per_region[key]/patients_per_region[key]\n",
    "        print(\"The average {} per patient for {} is {}\".format(cat, key, average))\n",
    "\n",
    "average_cat_per_region(\"cost\", cost_per_region)\n"
   ]
  },
  {
   "cell_type": "markdown",
   "metadata": {},
   "source": [
    "**Southeast** has the highest average cost per patient with 14735.41 per patient."
   ]
  },
  {
   "cell_type": "markdown",
   "metadata": {},
   "source": [
    "### Which region has the highest percentage of smokers amongst patients?\n"
   ]
  },
  {
   "cell_type": "code",
   "execution_count": 17,
   "metadata": {},
   "outputs": [
    {
     "name": "stdout",
     "output_type": "stream",
     "text": [
      "{'southwest': {'yes': 58, 'no': 267}, 'southeast': {'no': 273, 'yes': 91}, 'northwest': {'no': 267, 'yes': 58}, 'northeast': {'no': 257, 'yes': 67}}\n"
     ]
    }
   ],
   "source": [
    "# create reusable function to be used for binary variables such as male/female or smoker/non-smoker\n",
    "\n",
    "def binary_per_region(csv_file, binary):\n",
    "    regions = {}\n",
    "    with open(csv_file, newline='') as insurance_csv:\n",
    "        insurance_data = csv.DictReader(insurance_csv)\n",
    "        for row in insurance_data:\n",
    "            region = row[\"region\"]\n",
    "            value = row[binary]\n",
    "            if region in regions:\n",
    "                if value in regions[region]:\n",
    "                    regions[region][value] += 1 \n",
    "                else: \n",
    "                    regions[region][value] = 1\n",
    "            else:\n",
    "                regions[region] = {}\n",
    "                regions[region][value] = 1     \n",
    "    return regions\n",
    "\n",
    "smokers_per_region = binary_per_region(\"insurance.csv\", \"smoker\")\n",
    "\n",
    "print(smokers_per_region)"
   ]
  },
  {
   "cell_type": "code",
   "execution_count": 18,
   "metadata": {},
   "outputs": [
    {
     "name": "stdout",
     "output_type": "stream",
     "text": [
      "southwest has 17.85 percent smokers\n",
      "southeast has 25.0 percent smokers\n",
      "northwest has 17.85 percent smokers\n",
      "northeast has 20.68 percent smokers\n"
     ]
    }
   ],
   "source": [
    "# create function to calculate percentage of smokers per region\n",
    "\n",
    "def percentage_smokers(smokers_per_region, patients_per_region):\n",
    "    for key in smokers_per_region:\n",
    "        decimals = (smokers_per_region[key][\"yes\"]) / patients_per_region[key]\n",
    "        percentage = round(decimals * 100, 2)\n",
    "        print(\"{} has {} percent smokers\".format(key, percentage))\n",
    "              \n",
    "    \n",
    "percentage_smokers(smokers_per_region, patients_per_region)\n"
   ]
  },
  {
   "cell_type": "markdown",
   "metadata": {},
   "source": [
    "**Southeast** have the highest percentage of smokers with 25%."
   ]
  },
  {
   "cell_type": "markdown",
   "metadata": {},
   "source": [
    "### Which region has the most kids on average per patient?"
   ]
  },
  {
   "cell_type": "code",
   "execution_count": 19,
   "metadata": {},
   "outputs": [
    {
     "name": "stdout",
     "output_type": "stream",
     "text": [
      "{'southwest': 371.0, 'southeast': 382.0, 'northwest': 373.0, 'northeast': 339.0}\n"
     ]
    }
   ],
   "source": [
    "kids_per_region = category_per_region(\"insurance.csv\", \"children\")\n",
    "\n",
    "print(kids_per_region)\n"
   ]
  },
  {
   "cell_type": "code",
   "execution_count": 20,
   "metadata": {},
   "outputs": [
    {
     "name": "stdout",
     "output_type": "stream",
     "text": [
      "The average children per patient for southwest is 1.1415384615384616\n",
      "The average children per patient for southeast is 1.0494505494505495\n",
      "The average children per patient for northwest is 1.1476923076923078\n",
      "The average children per patient for northeast is 1.0462962962962963\n"
     ]
    }
   ],
   "source": [
    "average_cat_per_region(\"children\", kids_per_region)"
   ]
  },
  {
   "cell_type": "markdown",
   "metadata": {},
   "source": [
    "**Northwest** have the most children per patient with 1.15 children per patient."
   ]
  },
  {
   "cell_type": "markdown",
   "metadata": {},
   "source": [
    "### Which region has the highest average bmi per patient?\n"
   ]
  },
  {
   "cell_type": "code",
   "execution_count": 21,
   "metadata": {},
   "outputs": [
    {
     "name": "stdout",
     "output_type": "stream",
     "text": [
      "{'southwest': 9943.899999999998, 'southeast': 12141.580000000005, 'northwest': 9489.930000000004, 'northeast': 9452.215000000002}\n"
     ]
    }
   ],
   "source": [
    "bmi_per_region = category_per_region(\"insurance.csv\", \"bmi\")\n",
    "\n",
    "print(bmi_per_region)\n",
    "        "
   ]
  },
  {
   "cell_type": "code",
   "execution_count": 22,
   "metadata": {},
   "outputs": [
    {
     "name": "stdout",
     "output_type": "stream",
     "text": [
      "The average bmi per patient for southwest is 30.59661538461538\n",
      "The average bmi per patient for southeast is 33.35598901098903\n",
      "The average bmi per patient for northwest is 29.199784615384626\n",
      "The average bmi per patient for northeast is 29.17350308641976\n"
     ]
    }
   ],
   "source": [
    "average_cat_per_region(\"bmi\", bmi_per_region)"
   ]
  },
  {
   "cell_type": "markdown",
   "metadata": {},
   "source": [
    "**Southeast** has the highest average bmi per patient with 33.36 per patient."
   ]
  },
  {
   "cell_type": "markdown",
   "metadata": {},
   "source": [
    "## Conclusion\n",
    "\n",
    "The southeast region had the highest insurance cost per patient. \n",
    "This region also had the highest percent of smokers and highest average bmi per patient.\n",
    "However, they did not have the highest average number of children per patient. \n",
    "\n",
    "Lifestyle factors such as smoking and bmi seem to be contributing to the higher insurance cost in the southeast region. Number of kids seems to be contributing less to the  insurance cost.\n",
    "\n",
    "In a further analysis it would be interesting to see if age and gender distribution also affects the average insurance cost of each region. And could the region itself be a variable that affects the insurance cost of a patient?\n",
    "\n",
    "### Suggestions for improvements of the code\n",
    "\n",
    "* Round up numbers to two decimals\n",
    "* Create a function that calculates which region has the highest numbers instead of checking it manually"
   ]
  }
 ],
 "metadata": {
  "kernelspec": {
   "display_name": "Python 3",
   "language": "python",
   "name": "python3"
  },
  "language_info": {
   "codemirror_mode": {
    "name": "ipython",
    "version": 3
   },
   "file_extension": ".py",
   "mimetype": "text/x-python",
   "name": "python",
   "nbconvert_exporter": "python",
   "pygments_lexer": "ipython3",
   "version": "3.9.1"
  }
 },
 "nbformat": 4,
 "nbformat_minor": 4
}
