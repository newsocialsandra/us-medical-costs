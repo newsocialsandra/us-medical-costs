{
 "cells": [
  {
   "cell_type": "markdown",
   "metadata": {},
   "source": [
    "# U.S. Medical Insurance Costs\n",
    "\n",
    "## Hypothesis\n",
    "* Some regions have a higher insurance cost due to their patients having higher rate of smokers, kids and/or average bmi\n",
    "\n",
    "\n",
    "## Project Goals\n",
    "The goal of this analysis is to find out:\n",
    "\n",
    "* What's the average insurance cost per patient per region?\n",
    "* Which region has the highest percentage of smokers amongst patients?\n",
    "* Which region has the lowest percentage of smokers amongst patients?\n",
    "* Which region has the most kids on average per patient?\n",
    "* Which region has the least kids on average per patient?\n",
    "* Which region has the highest average bmi per patient?\n",
    "* Which region has the lowest average bmi per patient?\n",
    "\n",
    "\n",
    "## Data\n",
    "The data used is from the medical insurance cost dataset provided by Codecademy, [originally from Kaggle](https://www.kaggle.com/mirichoi0218/insurance).\n",
    "\n",
    "## Analysis"
   ]
  },
  {
   "cell_type": "code",
   "execution_count": 7,
   "metadata": {},
   "outputs": [],
   "source": [
    "import csv"
   ]
  },
  {
   "cell_type": "markdown",
   "metadata": {},
   "source": [
    "### What's the average insurance cost per patient per region?"
   ]
  },
  {
   "cell_type": "code",
   "execution_count": 8,
   "metadata": {},
   "outputs": [
    {
     "name": "stdout",
     "output_type": "stream",
     "text": [
      "{'age': '19', 'sex': 'female', 'bmi': '27.9', 'children': '0', 'smoker': 'yes', 'region': 'southwest', 'charges': '16884.924'}\n",
      "{'age': '18', 'sex': 'male', 'bmi': '33.77', 'children': '1', 'smoker': 'no', 'region': 'southeast', 'charges': '1725.5523'}\n",
      "{'age': '28', 'sex': 'male', 'bmi': '33', 'children': '3', 'smoker': 'no', 'region': 'southeast', 'charges': '4449.462'}\n",
      "{'age': '33', 'sex': 'male', 'bmi': '22.705', 'children': '0', 'smoker': 'no', 'region': 'northwest', 'charges': '21984.47061'}\n",
      "{'age': '32', 'sex': 'male', 'bmi': '28.88', 'children': '0', 'smoker': 'no', 'region': 'northwest', 'charges': '3866.8552'}\n"
     ]
    }
   ],
   "source": [
    "with open(\"insurance.csv\", newline='') as insurance_csv:\n",
    "    insurance_data = csv.DictReader(insurance_csv)\n",
    "    count = 0\n",
    "    for row in insurance_data:\n",
    "        if count < 5:\n",
    "            print(row)\n",
    "            count += 1"
   ]
  },
  {
   "cell_type": "code",
   "execution_count": null,
   "metadata": {},
   "outputs": [],
   "source": []
  }
 ],
 "metadata": {
  "kernelspec": {
   "display_name": "Python 3",
   "language": "python",
   "name": "python3"
  },
  "language_info": {
   "codemirror_mode": {
    "name": "ipython",
    "version": 3
   },
   "file_extension": ".py",
   "mimetype": "text/x-python",
   "name": "python",
   "nbconvert_exporter": "python",
   "pygments_lexer": "ipython3",
   "version": "3.9.1"
  }
 },
 "nbformat": 4,
 "nbformat_minor": 4
}
